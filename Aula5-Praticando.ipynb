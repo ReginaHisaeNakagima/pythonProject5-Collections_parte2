{
  "nbformat": 4,
  "nbformat_minor": 0,
  "metadata": {
    "colab": {
      "provenance": [],
      "authorship_tag": "ABX9TyOGg+JZPpcPPkUDCQ8ZZPuU",
      "include_colab_link": true
    },
    "kernelspec": {
      "name": "python3",
      "display_name": "Python 3"
    },
    "language_info": {
      "name": "python"
    }
  },
  "cells": [
    {
      "cell_type": "markdown",
      "metadata": {
        "id": "view-in-github",
        "colab_type": "text"
      },
      "source": [
        "<a href=\"https://colab.research.google.com/github/ReginaHisaeNakagima/pythonProject5-Collections_parte2/blob/main/Aula5-Praticando.ipynb\" target=\"_parent\"><img src=\"https://colab.research.google.com/assets/colab-badge.svg\" alt=\"Open In Colab\"/></a>"
      ]
    },
    {
      "cell_type": "markdown",
      "source": [
        "#**Aula1 - Conjuntos**"
      ],
      "metadata": {
        "id": "WydGiXt-RJns"
      }
    },
    {
      "cell_type": "code",
      "execution_count": null,
      "metadata": {
        "id": "ZMCMPSMpMaVA"
      },
      "outputs": [],
      "source": [
        "usuarios_data_science = [15, 23, 43, 56]\n",
        "usuarios_machine_learning = [13, 23, 56, 42]"
      ]
    },
    {
      "cell_type": "code",
      "source": [
        "assistiram = []\n",
        "assistiram.extend(usuarios_data_science)\n",
        "assistiram"
      ],
      "metadata": {
        "colab": {
          "base_uri": "https://localhost:8080/"
        },
        "id": "ALul7w0mRp-J",
        "outputId": "b5027205-a8e7-41d2-b83d-31efcf7bbe58"
      },
      "execution_count": null,
      "outputs": [
        {
          "output_type": "execute_result",
          "data": {
            "text/plain": [
              "[15, 23, 43, 56]"
            ]
          },
          "metadata": {},
          "execution_count": 2
        }
      ]
    },
    {
      "cell_type": "code",
      "source": [
        "assistiram = usuarios_data_science.copy()\n",
        "assistiram"
      ],
      "metadata": {
        "colab": {
          "base_uri": "https://localhost:8080/"
        },
        "id": "HJ7vG-DwSUUf",
        "outputId": "e1541119-5a5c-4b13-a400-c6fb769acc94"
      },
      "execution_count": null,
      "outputs": [
        {
          "output_type": "execute_result",
          "data": {
            "text/plain": [
              "[15, 23, 43, 56]"
            ]
          },
          "metadata": {},
          "execution_count": 3
        }
      ]
    },
    {
      "cell_type": "code",
      "source": [
        "assistiram = usuarios_data_science.copy()\n",
        "assistiram.extend(usuarios_machine_learning)\n",
        "assistiram"
      ],
      "metadata": {
        "colab": {
          "base_uri": "https://localhost:8080/"
        },
        "id": "NGxEwwP3T0XZ",
        "outputId": "aed85b70-6134-4779-d133-97719b3cb173"
      },
      "execution_count": null,
      "outputs": [
        {
          "output_type": "execute_result",
          "data": {
            "text/plain": [
              "[15, 23, 43, 56, 13, 23, 56, 42]"
            ]
          },
          "metadata": {},
          "execution_count": 4
        }
      ]
    },
    {
      "cell_type": "code",
      "source": [
        "len(assistiram)"
      ],
      "metadata": {
        "colab": {
          "base_uri": "https://localhost:8080/"
        },
        "id": "aJwU5XJtWhOi",
        "outputId": "75045ebb-8db9-42a3-eb28-74de5480056e"
      },
      "execution_count": null,
      "outputs": [
        {
          "output_type": "execute_result",
          "data": {
            "text/plain": [
              "8"
            ]
          },
          "metadata": {},
          "execution_count": 5
        }
      ]
    },
    {
      "cell_type": "code",
      "source": [
        "set(assistiram)"
      ],
      "metadata": {
        "colab": {
          "base_uri": "https://localhost:8080/"
        },
        "id": "tIvk4lrBWutJ",
        "outputId": "190abbbc-c490-4356-ac98-ed731366c44a"
      },
      "execution_count": null,
      "outputs": [
        {
          "output_type": "execute_result",
          "data": {
            "text/plain": [
              "{13, 15, 23, 42, 43, 56}"
            ]
          },
          "metadata": {},
          "execution_count": 6
        }
      ]
    },
    {
      "cell_type": "code",
      "source": [
        "set([1,2,3,1])"
      ],
      "metadata": {
        "colab": {
          "base_uri": "https://localhost:8080/"
        },
        "id": "KNE5kGsPXY4B",
        "outputId": "35be8af3-e085-44d6-885d-fc996eb00ecc"
      },
      "execution_count": null,
      "outputs": [
        {
          "output_type": "execute_result",
          "data": {
            "text/plain": [
              "{1, 2, 3}"
            ]
          },
          "metadata": {},
          "execution_count": 7
        }
      ]
    },
    {
      "cell_type": "code",
      "source": [
        "{4, 1,2,3,1}"
      ],
      "metadata": {
        "colab": {
          "base_uri": "https://localhost:8080/"
        },
        "id": "zeX0aCiBX5ab",
        "outputId": "8e570393-da96-4cf6-c02d-da0d128998d6"
      },
      "execution_count": null,
      "outputs": [
        {
          "output_type": "execute_result",
          "data": {
            "text/plain": [
              "{1, 2, 3, 4}"
            ]
          },
          "metadata": {},
          "execution_count": 8
        }
      ]
    },
    {
      "cell_type": "code",
      "source": [
        "type({1, 2})"
      ],
      "metadata": {
        "colab": {
          "base_uri": "https://localhost:8080/"
        },
        "id": "9OTZv_wcYHLp",
        "outputId": "9f5eed69-3356-4181-aedb-b7e1f9d6e657"
      },
      "execution_count": null,
      "outputs": [
        {
          "output_type": "execute_result",
          "data": {
            "text/plain": [
              "set"
            ]
          },
          "metadata": {},
          "execution_count": 10
        }
      ]
    },
    {
      "cell_type": "code",
      "source": [
        "usuarios_data_science = {15, 23, 43, 56}\n",
        "usuarios_machine_learning = {13, 23, 56, 42}"
      ],
      "metadata": {
        "id": "QHt6ey1BYm-O"
      },
      "execution_count": null,
      "outputs": []
    },
    {
      "cell_type": "code",
      "source": [
        "usuarios_machine_learning"
      ],
      "metadata": {
        "colab": {
          "base_uri": "https://localhost:8080/"
        },
        "id": "AHo0wt_OZWAq",
        "outputId": "239a1fb6-d19a-4088-ebea-61ec65900b9c"
      },
      "execution_count": null,
      "outputs": [
        {
          "output_type": "execute_result",
          "data": {
            "text/plain": [
              "{13, 23, 42, 56}"
            ]
          },
          "metadata": {},
          "execution_count": 12
        }
      ]
    },
    {
      "cell_type": "code",
      "source": [
        "usuarios_machine_learning[3]"
      ],
      "metadata": {
        "colab": {
          "base_uri": "https://localhost:8080/",
          "height": 176
        },
        "id": "k4xR9OEfZdq2",
        "outputId": "29ac8df1-0099-4987-8081-79a31277fb6a"
      },
      "execution_count": null,
      "outputs": [
        {
          "output_type": "error",
          "ename": "TypeError",
          "evalue": "ignored",
          "traceback": [
            "\u001b[0;31m---------------------------------------------------------------------------\u001b[0m",
            "\u001b[0;31mTypeError\u001b[0m                                 Traceback (most recent call last)",
            "\u001b[0;32m<ipython-input-13-ae55a602a7d7>\u001b[0m in \u001b[0;36m<cell line: 1>\u001b[0;34m()\u001b[0m\n\u001b[0;32m----> 1\u001b[0;31m \u001b[0musuarios_machine_learning\u001b[0m\u001b[0;34m[\u001b[0m\u001b[0;36m3\u001b[0m\u001b[0;34m]\u001b[0m\u001b[0;34m\u001b[0m\u001b[0;34m\u001b[0m\u001b[0m\n\u001b[0m",
            "\u001b[0;31mTypeError\u001b[0m: 'set' object is not subscriptable"
          ]
        }
      ]
    },
    {
      "cell_type": "code",
      "source": [
        "for usuario in set(assistiram):\n",
        "  print(usuario)"
      ],
      "metadata": {
        "colab": {
          "base_uri": "https://localhost:8080/"
        },
        "id": "GdcFHBUfZ0CP",
        "outputId": "9ddd55ff-882d-4c5e-f531-8533eddf7232"
      },
      "execution_count": null,
      "outputs": [
        {
          "output_type": "stream",
          "name": "stdout",
          "text": [
            "42\n",
            "43\n",
            "13\n",
            "15\n",
            "23\n",
            "56\n"
          ]
        }
      ]
    },
    {
      "cell_type": "code",
      "source": [
        "usuarios_data_science = {15, 23, 43, 56}\n",
        "usuarios_machine_learning = {13, 23, 56, 42}"
      ],
      "metadata": {
        "id": "wFqaq5bwbFl2"
      },
      "execution_count": null,
      "outputs": []
    },
    {
      "cell_type": "code",
      "source": [
        "usuarios_data_science | usuarios_machine_learning"
      ],
      "metadata": {
        "colab": {
          "base_uri": "https://localhost:8080/"
        },
        "id": "hLFFigjubieL",
        "outputId": "e71f3c1c-c0ee-4b91-ba40-968a4877cc2a"
      },
      "execution_count": null,
      "outputs": [
        {
          "output_type": "execute_result",
          "data": {
            "text/plain": [
              "{13, 15, 23, 42, 43, 56}"
            ]
          },
          "metadata": {},
          "execution_count": 16
        }
      ]
    },
    {
      "cell_type": "code",
      "source": [
        "usuarios_data_science & usuarios_machine_learning"
      ],
      "metadata": {
        "colab": {
          "base_uri": "https://localhost:8080/"
        },
        "id": "mb8LZ9dObsyj",
        "outputId": "170ad1a7-fe8b-451c-a5cf-dc2d9f14a56d"
      },
      "execution_count": null,
      "outputs": [
        {
          "output_type": "execute_result",
          "data": {
            "text/plain": [
              "{23, 56}"
            ]
          },
          "metadata": {},
          "execution_count": 17
        }
      ]
    },
    {
      "cell_type": "code",
      "source": [
        "usuarios_data_science - usuarios_machine_learning"
      ],
      "metadata": {
        "colab": {
          "base_uri": "https://localhost:8080/"
        },
        "id": "Lue35h9CeyFu",
        "outputId": "8a285a72-e4d8-492a-c2e8-2e3a19bf1a6f"
      },
      "execution_count": null,
      "outputs": [
        {
          "output_type": "execute_result",
          "data": {
            "text/plain": [
              "{15, 43}"
            ]
          },
          "metadata": {},
          "execution_count": 18
        }
      ]
    },
    {
      "cell_type": "code",
      "source": [
        "fez_ds_mas_nao_fez_ml = usuarios_data_science - usuarios_machine_learning\n",
        "15 in fez_ds_mas_nao_fez_ml"
      ],
      "metadata": {
        "colab": {
          "base_uri": "https://localhost:8080/"
        },
        "id": "NAwUqQDZfbt-",
        "outputId": "ded5829c-5d05-4b96-8e29-8f19ebf2ef16"
      },
      "execution_count": null,
      "outputs": [
        {
          "output_type": "execute_result",
          "data": {
            "text/plain": [
              "True"
            ]
          },
          "metadata": {},
          "execution_count": 19
        }
      ]
    },
    {
      "cell_type": "code",
      "source": [
        "23 in fez_ds_mas_nao_fez_ml"
      ],
      "metadata": {
        "colab": {
          "base_uri": "https://localhost:8080/"
        },
        "id": "2lb-G4vZf3FH",
        "outputId": "d571c0b8-2db8-4d3c-f367-cd29dd961b99"
      },
      "execution_count": null,
      "outputs": [
        {
          "output_type": "execute_result",
          "data": {
            "text/plain": [
              "False"
            ]
          },
          "metadata": {},
          "execution_count": 20
        }
      ]
    },
    {
      "cell_type": "code",
      "source": [
        "usuarios_data_science ^ usuarios_machine_learning"
      ],
      "metadata": {
        "colab": {
          "base_uri": "https://localhost:8080/"
        },
        "id": "a14j-2ibgRju",
        "outputId": "2c1f6112-9057-481e-ad8f-fe533a973f06"
      },
      "execution_count": null,
      "outputs": [
        {
          "output_type": "execute_result",
          "data": {
            "text/plain": [
              "{13, 15, 42, 43}"
            ]
          },
          "metadata": {},
          "execution_count": 21
        }
      ]
    },
    {
      "cell_type": "markdown",
      "source": [
        "#**Aula 2 - Operações**"
      ],
      "metadata": {
        "id": "l1V6XdEWnqPz"
      }
    },
    {
      "cell_type": "code",
      "source": [
        "usuarios = {1,5,76,34,52,13,17}\n",
        "len(usuarios)"
      ],
      "metadata": {
        "colab": {
          "base_uri": "https://localhost:8080/"
        },
        "id": "GPLBwGGmgqNN",
        "outputId": "ba70ecf0-58a1-490d-8385-521380ab4169"
      },
      "execution_count": null,
      "outputs": [
        {
          "output_type": "execute_result",
          "data": {
            "text/plain": [
              "7"
            ]
          },
          "metadata": {},
          "execution_count": 22
        }
      ]
    },
    {
      "cell_type": "code",
      "source": [
        "usuarios.append(13)\n",
        "len(usuarios)"
      ],
      "metadata": {
        "colab": {
          "base_uri": "https://localhost:8080/",
          "height": 194
        },
        "id": "1GidRYqfoJ0o",
        "outputId": "67c42410-b972-4bdb-b653-9b10ea010b93"
      },
      "execution_count": null,
      "outputs": [
        {
          "output_type": "error",
          "ename": "AttributeError",
          "evalue": "ignored",
          "traceback": [
            "\u001b[0;31m---------------------------------------------------------------------------\u001b[0m",
            "\u001b[0;31mAttributeError\u001b[0m                            Traceback (most recent call last)",
            "\u001b[0;32m<ipython-input-23-bf2548978dfe>\u001b[0m in \u001b[0;36m<cell line: 1>\u001b[0;34m()\u001b[0m\n\u001b[0;32m----> 1\u001b[0;31m \u001b[0musuarios\u001b[0m\u001b[0;34m.\u001b[0m\u001b[0mappend\u001b[0m\u001b[0;34m(\u001b[0m\u001b[0;36m13\u001b[0m\u001b[0;34m)\u001b[0m\u001b[0;34m\u001b[0m\u001b[0;34m\u001b[0m\u001b[0m\n\u001b[0m\u001b[1;32m      2\u001b[0m \u001b[0mlen\u001b[0m\u001b[0;34m(\u001b[0m\u001b[0musuarios\u001b[0m\u001b[0;34m)\u001b[0m\u001b[0;34m\u001b[0m\u001b[0;34m\u001b[0m\u001b[0m\n",
            "\u001b[0;31mAttributeError\u001b[0m: 'set' object has no attribute 'append'"
          ]
        }
      ]
    },
    {
      "cell_type": "code",
      "source": [
        "usuarios.add(13)\n",
        "len(usuarios)"
      ],
      "metadata": {
        "colab": {
          "base_uri": "https://localhost:8080/"
        },
        "id": "uamT8aCEowyF",
        "outputId": "ae526c68-58ec-495f-a97a-e772e33b3dcb"
      },
      "execution_count": null,
      "outputs": [
        {
          "output_type": "execute_result",
          "data": {
            "text/plain": [
              "7"
            ]
          },
          "metadata": {},
          "execution_count": 24
        }
      ]
    },
    {
      "cell_type": "code",
      "source": [
        "usuarios.add(765)\n",
        "len(usuarios)"
      ],
      "metadata": {
        "colab": {
          "base_uri": "https://localhost:8080/"
        },
        "id": "InRjJl6vpH36",
        "outputId": "649721fc-8e3b-4665-c232-563282e8dd2c"
      },
      "execution_count": null,
      "outputs": [
        {
          "output_type": "execute_result",
          "data": {
            "text/plain": [
              "8"
            ]
          },
          "metadata": {},
          "execution_count": 25
        }
      ]
    },
    {
      "cell_type": "code",
      "source": [
        "usuarios"
      ],
      "metadata": {
        "colab": {
          "base_uri": "https://localhost:8080/"
        },
        "id": "VqYS1L9Opde9",
        "outputId": "b0f9afad-cff7-475f-a2ef-6065a00b8c05"
      },
      "execution_count": null,
      "outputs": [
        {
          "output_type": "execute_result",
          "data": {
            "text/plain": [
              "{1, 5, 13, 17, 34, 52, 76, 765}"
            ]
          },
          "metadata": {},
          "execution_count": 26
        }
      ]
    },
    {
      "cell_type": "code",
      "source": [
        "usuarios = frozenset(usuarios)\n",
        "usuarios"
      ],
      "metadata": {
        "colab": {
          "base_uri": "https://localhost:8080/"
        },
        "id": "xg-Gu7_0pmnk",
        "outputId": "ed6e80c3-1409-4ae7-8666-493d76a72f02"
      },
      "execution_count": null,
      "outputs": [
        {
          "output_type": "execute_result",
          "data": {
            "text/plain": [
              "frozenset({1, 5, 13, 17, 34, 52, 76, 765})"
            ]
          },
          "metadata": {},
          "execution_count": 27
        }
      ]
    },
    {
      "cell_type": "code",
      "source": [
        "type(usuarios)"
      ],
      "metadata": {
        "colab": {
          "base_uri": "https://localhost:8080/"
        },
        "id": "SidJit7jqBMN",
        "outputId": "475309b3-2e7a-4ce4-f9fd-6928da1dbc1a"
      },
      "execution_count": null,
      "outputs": [
        {
          "output_type": "execute_result",
          "data": {
            "text/plain": [
              "frozenset"
            ]
          },
          "metadata": {},
          "execution_count": 28
        }
      ]
    },
    {
      "cell_type": "code",
      "source": [
        "usuarios.add(134)"
      ],
      "metadata": {
        "colab": {
          "base_uri": "https://localhost:8080/",
          "height": 176
        },
        "id": "uwfUVDG8qJFU",
        "outputId": "3f573b53-ac95-4379-aac8-2b503a9194ba"
      },
      "execution_count": null,
      "outputs": [
        {
          "output_type": "error",
          "ename": "AttributeError",
          "evalue": "ignored",
          "traceback": [
            "\u001b[0;31m---------------------------------------------------------------------------\u001b[0m",
            "\u001b[0;31mAttributeError\u001b[0m                            Traceback (most recent call last)",
            "\u001b[0;32m<ipython-input-30-f85b988f2472>\u001b[0m in \u001b[0;36m<cell line: 1>\u001b[0;34m()\u001b[0m\n\u001b[0;32m----> 1\u001b[0;31m \u001b[0musuarios\u001b[0m\u001b[0;34m.\u001b[0m\u001b[0madd\u001b[0m\u001b[0;34m(\u001b[0m\u001b[0;36m134\u001b[0m\u001b[0;34m)\u001b[0m\u001b[0;34m\u001b[0m\u001b[0;34m\u001b[0m\u001b[0m\n\u001b[0m",
            "\u001b[0;31mAttributeError\u001b[0m: 'frozenset' object has no attribute 'add'"
          ]
        }
      ]
    },
    {
      "cell_type": "code",
      "source": [
        "meu_texto = \"Bem vindo meu nome é Guilherme eu gosto muito de nomes e tenho o meu cachorro e gosto muito de cachorro\"\n",
        "meu_texto.split()"
      ],
      "metadata": {
        "colab": {
          "base_uri": "https://localhost:8080/"
        },
        "id": "kJ_ZZk47qy9e",
        "outputId": "449c17ed-ff6f-4b43-a4c9-cc8dabd8ab82"
      },
      "execution_count": null,
      "outputs": [
        {
          "output_type": "execute_result",
          "data": {
            "text/plain": [
              "['Bem',\n",
              " 'vindo',\n",
              " 'meu',\n",
              " 'nome',\n",
              " 'é',\n",
              " 'Guilherme',\n",
              " 'eu',\n",
              " 'gosto',\n",
              " 'muito',\n",
              " 'de',\n",
              " 'nomes',\n",
              " 'e',\n",
              " 'tenho',\n",
              " 'o',\n",
              " 'meu',\n",
              " 'cachorro',\n",
              " 'e',\n",
              " 'gosto',\n",
              " 'muito',\n",
              " 'de',\n",
              " 'cachorro']"
            ]
          },
          "metadata": {},
          "execution_count": 31
        }
      ]
    },
    {
      "cell_type": "code",
      "source": [
        "set(meu_texto.split())"
      ],
      "metadata": {
        "colab": {
          "base_uri": "https://localhost:8080/"
        },
        "id": "DK_Intuur08r",
        "outputId": "fd451f0f-3af4-440c-a57e-e6559ac73062"
      },
      "execution_count": null,
      "outputs": [
        {
          "output_type": "execute_result",
          "data": {
            "text/plain": [
              "{'Bem',\n",
              " 'Guilherme',\n",
              " 'cachorro',\n",
              " 'de',\n",
              " 'e',\n",
              " 'eu',\n",
              " 'gosto',\n",
              " 'meu',\n",
              " 'muito',\n",
              " 'nome',\n",
              " 'nomes',\n",
              " 'o',\n",
              " 'tenho',\n",
              " 'vindo',\n",
              " 'é'}"
            ]
          },
          "metadata": {},
          "execution_count": 32
        }
      ]
    },
    {
      "cell_type": "markdown",
      "source": [
        "#**Aula 3 - Dicionários**"
      ],
      "metadata": {
        "id": "eBWNHk3O35Ca"
      }
    },
    {
      "cell_type": "code",
      "source": [
        "aparicoes = {\n",
        "  \"Guilherme\" : 1,\n",
        "  \"cachorro\" : 2,\n",
        "  \"nome\" : 2,\n",
        "  \"vindo\" : 1\n",
        "}"
      ],
      "metadata": {
        "id": "-HQu-XcLsEJH"
      },
      "execution_count": null,
      "outputs": []
    },
    {
      "cell_type": "code",
      "source": [
        "type(aparicoes)"
      ],
      "metadata": {
        "colab": {
          "base_uri": "https://localhost:8080/"
        },
        "id": "0SbA2AeS4g8Y",
        "outputId": "820a63de-0a9f-48dc-9783-1a66065d7661"
      },
      "execution_count": null,
      "outputs": [
        {
          "output_type": "execute_result",
          "data": {
            "text/plain": [
              "dict"
            ]
          },
          "metadata": {},
          "execution_count": 2
        }
      ]
    },
    {
      "cell_type": "code",
      "source": [
        "aparicoes[\"Guilherme\"]"
      ],
      "metadata": {
        "colab": {
          "base_uri": "https://localhost:8080/"
        },
        "id": "uSkWK7ac4mW2",
        "outputId": "2660966b-7b80-424c-b38e-9a1bcf883d66"
      },
      "execution_count": null,
      "outputs": [
        {
          "output_type": "execute_result",
          "data": {
            "text/plain": [
              "1"
            ]
          },
          "metadata": {},
          "execution_count": 3
        }
      ]
    },
    {
      "cell_type": "code",
      "source": [
        "aparicoes[\"cachorro\"]"
      ],
      "metadata": {
        "colab": {
          "base_uri": "https://localhost:8080/"
        },
        "id": "_XKBF8zj47MC",
        "outputId": "dbdb8c29-944e-4f3d-bdac-57611aa0dd66"
      },
      "execution_count": null,
      "outputs": [
        {
          "output_type": "execute_result",
          "data": {
            "text/plain": [
              "2"
            ]
          },
          "metadata": {},
          "execution_count": 4
        }
      ]
    },
    {
      "cell_type": "code",
      "source": [
        "aparicoes[\"xpto\"]"
      ],
      "metadata": {
        "colab": {
          "base_uri": "https://localhost:8080/",
          "height": 176
        },
        "id": "q91TuLzx4_ds",
        "outputId": "9ec04e6e-2765-4790-e4f0-12e558718078"
      },
      "execution_count": null,
      "outputs": [
        {
          "output_type": "error",
          "ename": "KeyError",
          "evalue": "ignored",
          "traceback": [
            "\u001b[0;31m---------------------------------------------------------------------------\u001b[0m",
            "\u001b[0;31mKeyError\u001b[0m                                  Traceback (most recent call last)",
            "\u001b[0;32m<ipython-input-5-5844a27a46e4>\u001b[0m in \u001b[0;36m<cell line: 1>\u001b[0;34m()\u001b[0m\n\u001b[0;32m----> 1\u001b[0;31m \u001b[0maparicoes\u001b[0m\u001b[0;34m[\u001b[0m\u001b[0;34m\"xpto\"\u001b[0m\u001b[0;34m]\u001b[0m\u001b[0;34m\u001b[0m\u001b[0;34m\u001b[0m\u001b[0m\n\u001b[0m",
            "\u001b[0;31mKeyError\u001b[0m: 'xpto'"
          ]
        }
      ]
    },
    {
      "cell_type": "code",
      "source": [
        "aparicoes.get(\"xpto\", 0)"
      ],
      "metadata": {
        "colab": {
          "base_uri": "https://localhost:8080/"
        },
        "id": "D4uXoSA95PcD",
        "outputId": "bf306889-4895-43a0-a23d-90f61b099f3a"
      },
      "execution_count": null,
      "outputs": [
        {
          "output_type": "execute_result",
          "data": {
            "text/plain": [
              "0"
            ]
          },
          "metadata": {},
          "execution_count": 6
        }
      ]
    },
    {
      "cell_type": "code",
      "source": [
        "aparicoes.get(\"cachorro\", 0)"
      ],
      "metadata": {
        "colab": {
          "base_uri": "https://localhost:8080/"
        },
        "id": "vXns9gVq6Ye_",
        "outputId": "7fc0f79f-bda2-4b1e-c900-180c2ee29555"
      },
      "execution_count": null,
      "outputs": [
        {
          "output_type": "execute_result",
          "data": {
            "text/plain": [
              "2"
            ]
          },
          "metadata": {},
          "execution_count": 7
        }
      ]
    },
    {
      "cell_type": "code",
      "source": [
        "aparicoes = dict(Guilherme = 2, cachorro = 1)\n",
        "aparicoes"
      ],
      "metadata": {
        "colab": {
          "base_uri": "https://localhost:8080/"
        },
        "id": "QBgTdhZW7Z5p",
        "outputId": "b2168050-b22c-40bb-f3e8-0f90a5bda05d"
      },
      "execution_count": null,
      "outputs": [
        {
          "output_type": "execute_result",
          "data": {
            "text/plain": [
              "{'Guilherme': 2, 'cachorro': 1}"
            ]
          },
          "metadata": {},
          "execution_count": 8
        }
      ]
    },
    {
      "cell_type": "code",
      "source": [
        "aparicoes = {\n",
        "  \"Guilherme\" : 1,\n",
        "  \"cachorro\" : 2,\n",
        "  \"nome\" : 2,\n",
        "  \"vindo\" : 1\n",
        "}"
      ],
      "metadata": {
        "id": "WvTjphAH72tD"
      },
      "execution_count": null,
      "outputs": []
    },
    {
      "cell_type": "code",
      "source": [
        "aparicoes[\"Carlos\"] = 1\n",
        "aparicoes"
      ],
      "metadata": {
        "colab": {
          "base_uri": "https://localhost:8080/"
        },
        "id": "G4GGO_788FAL",
        "outputId": "28d502bd-862d-4608-c8f4-d8e38f3b6587"
      },
      "execution_count": null,
      "outputs": [
        {
          "output_type": "execute_result",
          "data": {
            "text/plain": [
              "{'Guilherme': 1, 'cachorro': 2, 'nome': 2, 'vindo': 1, 'Carlos': 1}"
            ]
          },
          "metadata": {},
          "execution_count": 3
        }
      ]
    },
    {
      "cell_type": "code",
      "source": [
        "aparicoes[\"Carlos\"] = 2\n",
        "aparicoes"
      ],
      "metadata": {
        "colab": {
          "base_uri": "https://localhost:8080/"
        },
        "id": "_OEYJho89qht",
        "outputId": "f4d8108e-9385-4438-e89a-3ed35f7f1bed"
      },
      "execution_count": null,
      "outputs": [
        {
          "output_type": "execute_result",
          "data": {
            "text/plain": [
              "{'Guilherme': 1, 'cachorro': 2, 'nome': 2, 'vindo': 1, 'Carlos': 2}"
            ]
          },
          "metadata": {},
          "execution_count": 4
        }
      ]
    },
    {
      "cell_type": "code",
      "source": [
        "del aparicoes[\"Carlos\"]\n",
        "aparicoes"
      ],
      "metadata": {
        "colab": {
          "base_uri": "https://localhost:8080/"
        },
        "id": "QGX28v_9-fdz",
        "outputId": "98ac3dc0-f27e-4bd6-dd0b-36b2fcec9949"
      },
      "execution_count": null,
      "outputs": [
        {
          "output_type": "execute_result",
          "data": {
            "text/plain": [
              "{'Guilherme': 1, 'cachorro': 2, 'nome': 2, 'vindo': 1}"
            ]
          },
          "metadata": {},
          "execution_count": 5
        }
      ]
    },
    {
      "cell_type": "code",
      "source": [
        "\"cachorro\" in aparicoes"
      ],
      "metadata": {
        "colab": {
          "base_uri": "https://localhost:8080/"
        },
        "id": "CqDTwohT-yWq",
        "outputId": "59500543-2277-4af1-e2e9-223e74697099"
      },
      "execution_count": null,
      "outputs": [
        {
          "output_type": "execute_result",
          "data": {
            "text/plain": [
              "True"
            ]
          },
          "metadata": {},
          "execution_count": 6
        }
      ]
    },
    {
      "cell_type": "code",
      "source": [
        "\"Carlos\" in aparicoes"
      ],
      "metadata": {
        "colab": {
          "base_uri": "https://localhost:8080/"
        },
        "id": "KVuBEHh49JQ2",
        "outputId": "3b995f6c-98b0-40ab-81ca-122dd0441842"
      },
      "execution_count": null,
      "outputs": [
        {
          "output_type": "execute_result",
          "data": {
            "text/plain": [
              "False"
            ]
          },
          "metadata": {},
          "execution_count": 7
        }
      ]
    },
    {
      "cell_type": "code",
      "source": [
        "for elemento in aparicoes:\n",
        "  print(elemento)"
      ],
      "metadata": {
        "colab": {
          "base_uri": "https://localhost:8080/"
        },
        "id": "Ds0mVOOb9vZu",
        "outputId": "abdeb26e-7cbd-4835-f6ec-52ef6560edfa"
      },
      "execution_count": null,
      "outputs": [
        {
          "output_type": "stream",
          "name": "stdout",
          "text": [
            "Guilherme\n",
            "cachorro\n",
            "nome\n",
            "vindo\n"
          ]
        }
      ]
    },
    {
      "cell_type": "code",
      "source": [
        "for elemento in aparicoes.keys():\n",
        "  print(elemento)"
      ],
      "metadata": {
        "colab": {
          "base_uri": "https://localhost:8080/"
        },
        "id": "XYIpsEp497cZ",
        "outputId": "e8070724-9a2e-4188-caf2-410101e6f4c9"
      },
      "execution_count": null,
      "outputs": [
        {
          "output_type": "stream",
          "name": "stdout",
          "text": [
            "Guilherme\n",
            "cachorro\n",
            "nome\n",
            "vindo\n"
          ]
        }
      ]
    },
    {
      "cell_type": "code",
      "source": [
        "for elemento in aparicoes.values():\n",
        "  print(elemento)"
      ],
      "metadata": {
        "colab": {
          "base_uri": "https://localhost:8080/"
        },
        "id": "lVXVr__3-lah",
        "outputId": "6430bd31-e7bf-45dd-f867-78250100b2b6"
      },
      "execution_count": null,
      "outputs": [
        {
          "output_type": "stream",
          "name": "stdout",
          "text": [
            "1\n",
            "2\n",
            "2\n",
            "1\n"
          ]
        }
      ]
    },
    {
      "cell_type": "code",
      "source": [
        "1 in aparicoes.values()"
      ],
      "metadata": {
        "colab": {
          "base_uri": "https://localhost:8080/"
        },
        "id": "_48ytbTy-0ut",
        "outputId": "4eb24956-7a5a-4c65-e9d4-13e3bea48029"
      },
      "execution_count": null,
      "outputs": [
        {
          "output_type": "execute_result",
          "data": {
            "text/plain": [
              "True"
            ]
          },
          "metadata": {},
          "execution_count": 11
        }
      ]
    },
    {
      "cell_type": "code",
      "source": [
        "for elemento in aparicoes.keys():\n",
        "  print(elemento, aparicoes[elemento])"
      ],
      "metadata": {
        "colab": {
          "base_uri": "https://localhost:8080/"
        },
        "id": "Na7bBeyn_CVi",
        "outputId": "1e9392bb-0eb5-4bf0-ab11-8b56498e63f5"
      },
      "execution_count": null,
      "outputs": [
        {
          "output_type": "stream",
          "name": "stdout",
          "text": [
            "Guilherme 1\n",
            "cachorro 2\n",
            "nome 2\n",
            "vindo 1\n"
          ]
        }
      ]
    },
    {
      "cell_type": "code",
      "source": [
        "for elemento in aparicoes.keys():\n",
        "  valor = aparicoes[elemento]\n",
        "  print(elemento, valor)"
      ],
      "metadata": {
        "colab": {
          "base_uri": "https://localhost:8080/"
        },
        "id": "7QVcqCy7_cFq",
        "outputId": "99af6883-368f-414f-a95f-6ee61d2ce355"
      },
      "execution_count": null,
      "outputs": [
        {
          "output_type": "stream",
          "name": "stdout",
          "text": [
            "Guilherme 1\n",
            "cachorro 2\n",
            "nome 2\n",
            "vindo 1\n"
          ]
        }
      ]
    },
    {
      "cell_type": "code",
      "source": [
        "for elemento in aparicoes.items():\n",
        "  print(elemento)"
      ],
      "metadata": {
        "colab": {
          "base_uri": "https://localhost:8080/"
        },
        "id": "DgqiKILXACOn",
        "outputId": "22785d2b-f467-4b8f-9efc-a86642b732cc"
      },
      "execution_count": null,
      "outputs": [
        {
          "output_type": "stream",
          "name": "stdout",
          "text": [
            "('Guilherme', 1)\n",
            "('cachorro', 2)\n",
            "('nome', 2)\n",
            "('vindo', 1)\n"
          ]
        }
      ]
    },
    {
      "cell_type": "code",
      "source": [
        "for chave, valor in aparicoes.items():\n",
        "  print(chave, \"=\", valor)"
      ],
      "metadata": {
        "colab": {
          "base_uri": "https://localhost:8080/"
        },
        "id": "Jln-jNIvAfwq",
        "outputId": "a6b235c1-5902-4285-f8b6-213dd2375fa9"
      },
      "execution_count": null,
      "outputs": [
        {
          "output_type": "stream",
          "name": "stdout",
          "text": [
            "Guilherme = 1\n",
            "cachorro = 2\n",
            "nome = 2\n",
            "vindo = 1\n"
          ]
        }
      ]
    },
    {
      "cell_type": "code",
      "source": [
        "[\"palavra {}\".format(chave) for chave in aparicoes.keys()]"
      ],
      "metadata": {
        "id": "lMnegec4BAub",
        "outputId": "aca6624c-7438-4d6c-f5fb-837d80dea8e3",
        "colab": {
          "base_uri": "https://localhost:8080/"
        }
      },
      "execution_count": null,
      "outputs": [
        {
          "output_type": "execute_result",
          "data": {
            "text/plain": [
              "['palavra Guilherme', 'palavra cachorro', 'palavra nome', 'palavra vindo']"
            ]
          },
          "metadata": {},
          "execution_count": 16
        }
      ]
    },
    {
      "cell_type": "markdown",
      "source": [
        "#**Aula 4 - Variações de dicionários**"
      ],
      "metadata": {
        "id": "-iwOiPEeFQOz"
      }
    },
    {
      "cell_type": "code",
      "source": [
        "meu_texto = \"Bem vindo meu nome é Guilherme eu gosto muito de nomes e tenho o meu cachorro e gosto muito de cachorro\"\n",
        "meu_texto = meu_texto.lower()\n",
        "meu_texto"
      ],
      "metadata": {
        "id": "84vR_BlrBlU1",
        "colab": {
          "base_uri": "https://localhost:8080/",
          "height": 35
        },
        "outputId": "52354d59-1a00-4e25-db6b-58a615a16a3d"
      },
      "execution_count": 18,
      "outputs": [
        {
          "output_type": "execute_result",
          "data": {
            "text/plain": [
              "'bem vindo meu nome é guilherme eu gosto muito de nomes e tenho o meu cachorro e gosto muito de cachorro'"
            ],
            "application/vnd.google.colaboratory.intrinsic+json": {
              "type": "string"
            }
          },
          "metadata": {},
          "execution_count": 18
        }
      ]
    },
    {
      "cell_type": "code",
      "source": [
        "meu_texto.split()"
      ],
      "metadata": {
        "colab": {
          "base_uri": "https://localhost:8080/"
        },
        "id": "j6FydeqiM1r9",
        "outputId": "c48c9d65-703b-4cb3-e42d-3eb917f17b59"
      },
      "execution_count": 19,
      "outputs": [
        {
          "output_type": "execute_result",
          "data": {
            "text/plain": [
              "['bem',\n",
              " 'vindo',\n",
              " 'meu',\n",
              " 'nome',\n",
              " 'é',\n",
              " 'guilherme',\n",
              " 'eu',\n",
              " 'gosto',\n",
              " 'muito',\n",
              " 'de',\n",
              " 'nomes',\n",
              " 'e',\n",
              " 'tenho',\n",
              " 'o',\n",
              " 'meu',\n",
              " 'cachorro',\n",
              " 'e',\n",
              " 'gosto',\n",
              " 'muito',\n",
              " 'de',\n",
              " 'cachorro']"
            ]
          },
          "metadata": {},
          "execution_count": 19
        }
      ]
    },
    {
      "cell_type": "code",
      "source": [
        "meu_texto = \"Bem vindo meu nome é Guilherme eu gosto muito de nomes e tenho o meu cachorro e gosto muito de cachorro\"\n",
        "meu_texto = meu_texto.lower()\n",
        "\n",
        "aparicoes = {}\n",
        "\n",
        "for palavra in meu_texto.split():\n",
        "  ate_agora = aparicoes.get(palavra, 0)\n",
        "  aparicoes[palavra] = ate_agora + 1"
      ],
      "metadata": {
        "id": "pa3NkQCCNqkL"
      },
      "execution_count": 20,
      "outputs": []
    },
    {
      "cell_type": "code",
      "source": [
        "aparicoes"
      ],
      "metadata": {
        "colab": {
          "base_uri": "https://localhost:8080/"
        },
        "id": "YAsxatpFO9Oi",
        "outputId": "93bf18f9-da4c-426c-8d7d-871927db50b1"
      },
      "execution_count": 21,
      "outputs": [
        {
          "output_type": "execute_result",
          "data": {
            "text/plain": [
              "{'bem': 1,\n",
              " 'vindo': 1,\n",
              " 'meu': 2,\n",
              " 'nome': 1,\n",
              " 'é': 1,\n",
              " 'guilherme': 1,\n",
              " 'eu': 1,\n",
              " 'gosto': 2,\n",
              " 'muito': 2,\n",
              " 'de': 2,\n",
              " 'nomes': 1,\n",
              " 'e': 2,\n",
              " 'tenho': 1,\n",
              " 'o': 1,\n",
              " 'cachorro': 2}"
            ]
          },
          "metadata": {},
          "execution_count": 21
        }
      ]
    },
    {
      "cell_type": "code",
      "source": [
        "from collections import defaultdict\n",
        "\n",
        "aparicoes = defaultdict(int)\n",
        "\n",
        "for palavra in meu_texto.split():\n",
        "  ate_agora = aparicoes.get(palavra, 0)\n",
        "  aparicoes[palavra] = ate_agora + 1\n",
        "\n",
        "aparicoes"
      ],
      "metadata": {
        "colab": {
          "base_uri": "https://localhost:8080/"
        },
        "id": "T1I_ud9QPI7v",
        "outputId": "3c18b653-82d1-455b-e565-95acafc51087"
      },
      "execution_count": 22,
      "outputs": [
        {
          "output_type": "execute_result",
          "data": {
            "text/plain": [
              "defaultdict(int,\n",
              "            {'bem': 1,\n",
              "             'vindo': 1,\n",
              "             'meu': 2,\n",
              "             'nome': 1,\n",
              "             'é': 1,\n",
              "             'guilherme': 1,\n",
              "             'eu': 1,\n",
              "             'gosto': 2,\n",
              "             'muito': 2,\n",
              "             'de': 2,\n",
              "             'nomes': 1,\n",
              "             'e': 2,\n",
              "             'tenho': 1,\n",
              "             'o': 1,\n",
              "             'cachorro': 2})"
            ]
          },
          "metadata": {},
          "execution_count": 22
        }
      ]
    },
    {
      "cell_type": "code",
      "source": [
        "int()"
      ],
      "metadata": {
        "colab": {
          "base_uri": "https://localhost:8080/"
        },
        "id": "p6_86bZbRfu5",
        "outputId": "0309d933-4000-4ae3-9e47-9bc77d86482c"
      },
      "execution_count": 23,
      "outputs": [
        {
          "output_type": "execute_result",
          "data": {
            "text/plain": [
              "0"
            ]
          },
          "metadata": {},
          "execution_count": 23
        }
      ]
    },
    {
      "cell_type": "code",
      "source": [
        "from collections import defaultdict\n",
        "\n",
        "aparicoes = defaultdict(int)\n",
        "\n",
        "for palavra in meu_texto.split():\n",
        "  ate_agora = aparicoes[palavra]\n",
        "  aparicoes[palavra] = ate_agora + 1\n",
        "\n",
        "aparicoes"
      ],
      "metadata": {
        "colab": {
          "base_uri": "https://localhost:8080/"
        },
        "id": "-sIGoBPtWai9",
        "outputId": "9662efeb-cf04-4cd6-9e5a-d3afc8a52843"
      },
      "execution_count": 24,
      "outputs": [
        {
          "output_type": "execute_result",
          "data": {
            "text/plain": [
              "defaultdict(int,\n",
              "            {'bem': 1,\n",
              "             'vindo': 1,\n",
              "             'meu': 2,\n",
              "             'nome': 1,\n",
              "             'é': 1,\n",
              "             'guilherme': 1,\n",
              "             'eu': 1,\n",
              "             'gosto': 2,\n",
              "             'muito': 2,\n",
              "             'de': 2,\n",
              "             'nomes': 1,\n",
              "             'e': 2,\n",
              "             'tenho': 1,\n",
              "             'o': 1,\n",
              "             'cachorro': 2})"
            ]
          },
          "metadata": {},
          "execution_count": 24
        }
      ]
    },
    {
      "cell_type": "code",
      "source": [
        "dicionario = defaultdict(int)\n",
        "dicionario['guilherme']"
      ],
      "metadata": {
        "colab": {
          "base_uri": "https://localhost:8080/"
        },
        "id": "XckqxfUAcFMH",
        "outputId": "d88ebce7-2410-42f9-b735-b1716877bf37"
      },
      "execution_count": 25,
      "outputs": [
        {
          "output_type": "execute_result",
          "data": {
            "text/plain": [
              "0"
            ]
          },
          "metadata": {},
          "execution_count": 25
        }
      ]
    },
    {
      "cell_type": "code",
      "source": [
        "dicionario['guilherme'] = 15\n",
        "dicionario['guilherme']"
      ],
      "metadata": {
        "colab": {
          "base_uri": "https://localhost:8080/"
        },
        "id": "6JDxXdA5crJa",
        "outputId": "8b8d8d6e-9d2c-4932-f763-3d657014f9a5"
      },
      "execution_count": 26,
      "outputs": [
        {
          "output_type": "execute_result",
          "data": {
            "text/plain": [
              "15"
            ]
          },
          "metadata": {},
          "execution_count": 26
        }
      ]
    },
    {
      "cell_type": "code",
      "source": [
        "aparicoes = defaultdict(int)\n",
        "\n",
        "for palavra in meu_texto.split():\n",
        "  ate_agora = aparicoes[palavra]\n",
        "  aparicoes[palavra] = ate_agora + 1\n",
        "\n",
        "aparicoes"
      ],
      "metadata": {
        "colab": {
          "base_uri": "https://localhost:8080/"
        },
        "id": "MDEsxMY6c-M_",
        "outputId": "a5be6e0f-31c6-496e-cb9e-d6012cc33c9d"
      },
      "execution_count": 27,
      "outputs": [
        {
          "output_type": "execute_result",
          "data": {
            "text/plain": [
              "defaultdict(int,\n",
              "            {'bem': 1,\n",
              "             'vindo': 1,\n",
              "             'meu': 2,\n",
              "             'nome': 1,\n",
              "             'é': 1,\n",
              "             'guilherme': 1,\n",
              "             'eu': 1,\n",
              "             'gosto': 2,\n",
              "             'muito': 2,\n",
              "             'de': 2,\n",
              "             'nomes': 1,\n",
              "             'e': 2,\n",
              "             'tenho': 1,\n",
              "             'o': 1,\n",
              "             'cachorro': 2})"
            ]
          },
          "metadata": {},
          "execution_count": 27
        }
      ]
    },
    {
      "cell_type": "code",
      "source": [
        "aparicoes = defaultdict(int)\n",
        "\n",
        "for palavra in meu_texto.split():\n",
        "  aparicoes[palavra] += 1\n",
        "\n",
        "aparicoes"
      ],
      "metadata": {
        "colab": {
          "base_uri": "https://localhost:8080/"
        },
        "id": "oM7hLPPeqUC6",
        "outputId": "048a7433-8d08-40f0-9a08-db7155ab22bf"
      },
      "execution_count": 28,
      "outputs": [
        {
          "output_type": "execute_result",
          "data": {
            "text/plain": [
              "defaultdict(int,\n",
              "            {'bem': 1,\n",
              "             'vindo': 1,\n",
              "             'meu': 2,\n",
              "             'nome': 1,\n",
              "             'é': 1,\n",
              "             'guilherme': 1,\n",
              "             'eu': 1,\n",
              "             'gosto': 2,\n",
              "             'muito': 2,\n",
              "             'de': 2,\n",
              "             'nomes': 1,\n",
              "             'e': 2,\n",
              "             'tenho': 1,\n",
              "             'o': 1,\n",
              "             'cachorro': 2})"
            ]
          },
          "metadata": {},
          "execution_count": 28
        }
      ]
    },
    {
      "cell_type": "code",
      "source": [
        "class Conta:\n",
        "  def __init__(self):\n",
        "    print(\"Criando uma conta\")"
      ],
      "metadata": {
        "id": "WAwL_Xa5q97d"
      },
      "execution_count": 29,
      "outputs": []
    },
    {
      "cell_type": "code",
      "source": [
        "contas = defaultdict(Conta)\n",
        "contas[15]"
      ],
      "metadata": {
        "colab": {
          "base_uri": "https://localhost:8080/"
        },
        "id": "WDL3FxnvuBgk",
        "outputId": "4d0765e7-344f-403e-a47e-6fd69cb79caf"
      },
      "execution_count": 30,
      "outputs": [
        {
          "output_type": "stream",
          "name": "stdout",
          "text": [
            "Criando uma conta\n"
          ]
        },
        {
          "output_type": "execute_result",
          "data": {
            "text/plain": [
              "<__main__.Conta at 0x7d25e76ecbe0>"
            ]
          },
          "metadata": {},
          "execution_count": 30
        }
      ]
    },
    {
      "cell_type": "code",
      "source": [
        "contas[17]"
      ],
      "metadata": {
        "colab": {
          "base_uri": "https://localhost:8080/"
        },
        "id": "9oZs8bZ5uSUW",
        "outputId": "dfe8fbe5-22fe-4536-b417-f7fd64b2f04c"
      },
      "execution_count": 31,
      "outputs": [
        {
          "output_type": "stream",
          "name": "stdout",
          "text": [
            "Criando uma conta\n"
          ]
        },
        {
          "output_type": "execute_result",
          "data": {
            "text/plain": [
              "<__main__.Conta at 0x7d25e76ef850>"
            ]
          },
          "metadata": {},
          "execution_count": 31
        }
      ]
    },
    {
      "cell_type": "code",
      "source": [
        "contas[15]"
      ],
      "metadata": {
        "colab": {
          "base_uri": "https://localhost:8080/"
        },
        "id": "uOKOwfJeygyb",
        "outputId": "9ea451cf-155d-410c-e435-ec7561d6c644"
      },
      "execution_count": 32,
      "outputs": [
        {
          "output_type": "execute_result",
          "data": {
            "text/plain": [
              "<__main__.Conta at 0x7d25e76ecbe0>"
            ]
          },
          "metadata": {},
          "execution_count": 32
        }
      ]
    },
    {
      "cell_type": "code",
      "source": [
        "from collections import Counter\n",
        "\n",
        "aparicoes = Counter()\n",
        "for palavra in meu_texto.split():\n",
        "  aparicoes[palavra] += 1\n",
        "\n",
        "aparicoes"
      ],
      "metadata": {
        "colab": {
          "base_uri": "https://localhost:8080/"
        },
        "id": "T_iOKoLOyx_5",
        "outputId": "174755c0-50cd-4b2d-e337-e68a6a8eb86c"
      },
      "execution_count": 33,
      "outputs": [
        {
          "output_type": "execute_result",
          "data": {
            "text/plain": [
              "Counter({'bem': 1,\n",
              "         'vindo': 1,\n",
              "         'meu': 2,\n",
              "         'nome': 1,\n",
              "         'é': 1,\n",
              "         'guilherme': 1,\n",
              "         'eu': 1,\n",
              "         'gosto': 2,\n",
              "         'muito': 2,\n",
              "         'de': 2,\n",
              "         'nomes': 1,\n",
              "         'e': 2,\n",
              "         'tenho': 1,\n",
              "         'o': 1,\n",
              "         'cachorro': 2})"
            ]
          },
          "metadata": {},
          "execution_count": 33
        }
      ]
    },
    {
      "cell_type": "code",
      "source": [
        "aparicoes = Counter(meu_texto.split())\n",
        "\n",
        "aparicoes"
      ],
      "metadata": {
        "colab": {
          "base_uri": "https://localhost:8080/"
        },
        "id": "sW1tv4SNzyZH",
        "outputId": "4fe2d1d5-7842-42e2-8f81-75182fae7930"
      },
      "execution_count": 34,
      "outputs": [
        {
          "output_type": "execute_result",
          "data": {
            "text/plain": [
              "Counter({'bem': 1,\n",
              "         'vindo': 1,\n",
              "         'meu': 2,\n",
              "         'nome': 1,\n",
              "         'é': 1,\n",
              "         'guilherme': 1,\n",
              "         'eu': 1,\n",
              "         'gosto': 2,\n",
              "         'muito': 2,\n",
              "         'de': 2,\n",
              "         'nomes': 1,\n",
              "         'e': 2,\n",
              "         'tenho': 1,\n",
              "         'o': 1,\n",
              "         'cachorro': 2})"
            ]
          },
          "metadata": {},
          "execution_count": 34
        }
      ]
    },
    {
      "cell_type": "markdown",
      "source": [
        "#**Aula5 - Praticando**"
      ],
      "metadata": {
        "id": "l8DHN6HpIUGC"
      }
    },
    {
      "cell_type": "markdown",
      "source": [
        "##Testando o uso de diversas coleções"
      ],
      "metadata": {
        "id": "VQrpxaulJg0U"
      }
    },
    {
      "cell_type": "code",
      "source": [
        "texto1 = \"\"\"\n",
        "Para começar a fazer vendas online, uma empresa que fabrica adesivos criou uma página para pré cadastro de cartão de crédito que contém campos como nome, idade, endereço, CPF entre outros.\n",
        "\n",
        "O problema é que alguns cadastros não possuem um formato de CPF válido, isso porque o campo não possui nenhuma validação. Ou seja, o campo está aceitando não só números como letras e outros tipos de caractere.\n",
        "\n",
        "O que vamos fazer é encontrar uma maneira de ajudar o usuário de forma mais clara possível a preencher o cadastro e garantir a validação no front-end antes que os dados sejam enviados para o back-end.\n",
        "\n",
        "Como podemos notar não temos nenhuma validação, então fica confuso se devemos ou não colocar ponto ou traço no CPF e pode acontecer do usuário colocar outros caracteres no campo sem querer.\n",
        "\n",
        "Para isso evitar que isso ocorra vamos usar o atributo pattern do HTML5 que nos permite fazer uso das famosas expressões regulares que nada mais são que padrões utilizados para selecionar caracteres em uma string.\n",
        "\n",
        "Na nossa verificação vamos usar a lista [0-9], esse padrão indica que queremos os números de 0 até 9 e o intervalo {11}, indicando que temos que ter um número de 11 dígitos no nosso campo.\n",
        "\n",
        "Com a adição do pattern nosso campo de CPF ficou da seguinte maneira:\n",
        "\n",
        "Com a ajuda do pattern e das expressões regulares conseguimos resolver uma parte da tarefa, agora o que precisamos fazer encontrar uma maneira de formatar o CPF no padrão que precisamos enviar ao back-end.\n",
        "\n",
        "Mais um pouco de Regex\n",
        "Para começar vamos criar uma função que vai ser responsável por formatar o CPF. Dentro dessa função vamos ter as variáveis :\n",
        "\n",
        "elementoAlvo: responsável pelo parâmetro que vai ser passado na função\n",
        "cpfAtual: responsável por capturar os números do CPF digitados\n",
        "cpfAtualizado: responsável por receber o CPF formatado.\n",
        "\"\"\""
      ],
      "metadata": {
        "id": "OhVQONn10YTw"
      },
      "execution_count": 1,
      "outputs": []
    },
    {
      "cell_type": "code",
      "source": [
        "texto2 = \"\"\"\n",
        "Vamos imaginar uma empresa como o Nubank, seu nome é ByteBank. A primeira vista ela vende cartões de crédito e possui uma estratégia de marketing de conteúdo para seus clientes (Business to Consumer, B2C).\n",
        "\n",
        "Agora ela está lançando um novo cartão focado em empresas e quer criar uma estratégia de marketing de conteúdo para outras empresas (business to business, B2B).\n",
        "\n",
        "Como eles podem criar essa estratégia? É possível utilizar ideias e ferramentas do marketing de conteúdo B2C para o B2B?\n",
        "\n",
        "No marketing de conteúdo criado para B2C da ByteBank é muito enfatizado que as principais vantagens da empresa são:\n",
        "\n",
        "saber o limite na hora;\n",
        "não pagar qualquer tarifa e\n",
        "não ter que lidar com burocracia na hora de fazer o cartão.\n",
        "Então, todo o plano é focado em criar conteúdos sobre questões relacionadas ao mundo financeiro, para mostrar que a empresa é especialista no assunto, transmitindo uma confiança aos clientes.\n",
        "\n",
        "A equipe de marketing escreveu um texto no qual foram explicadas todas as taxas do cartão de crédito. Depois de explicar com detalhes o que é cada taxa, foi mostrado o porquê do cartão dessa empresa não cobrar nenhuma delas.\n",
        "\n",
        "Para mostrar na prática o quanto o consumidor economizaria, eles deram como um exemplo que mostram o que pode ser comprado com o dinheiro economizado em tarifas do cartão. Veja como ficou o texto:\n",
        "\n",
        "Se a tarifa é de 30 reais por mês, depois de um ano: 30 (tarifa) * 12 (meses) = 360, você gasta R$ 360,00 só em tarifas! Não seria muito melhor comprar um Kindle ou dois jogos para Playstation 4 ou, até mesmo, ir uma vez por mês ao cinema (e pagando inteira) com esse dinheiro em vez de pagá-lo em tarifas?\n",
        "\n",
        "Será que se pode fazer a mesma coisa para o B2B, já que não existem tarifas para empresas também?\n",
        "\n",
        "As empresas que querem comprar um produto precisam avaliar muito bem toda a compra, sempre se perguntando se aquele produto realmente compensa para ela, principalmente a longo prazo.\n",
        "\n",
        "Então, e se fosse dito coisas que a empresa poderia fazer com o dinheiro que também vão trazer um retorno financeiro, ao contrário das taxas dos bancos? Como fazer pesquisas com usuários, desenvolver novos produtos, treinar pessoas para marketing, entre outras coisas?\n",
        "\n",
        "Pensando nessas diferenças, utilizamos o mesmo exemplo: quanto seria economizado por ano pela empresa cliente. Porém, no texto inteiro, queremos também mostrar dicas de como ela pode poupar, de diversas maneiras, mesmo usando um cartão de crédito. Então, o exemplo de economia no texto ficou assim:\n",
        "\n",
        "Pensando que a tarifa para empresas é mais barata que para pessoas físicas, ou seja, de 30 reais, passa a ser 10 reais por cartão para cada colaborador, e dez cartões serão feitos, cada um pertencendo a colaborador, depois de um ano, serão pagos: 10 (de tarifa) * 10 (quantidade de cartões) * 12 (meses do ano) = 1200.\n",
        "\n",
        "Assim, a organização gastaria R$ 1.200,00 para manter os cartões durante esse período. Agora, se os cartões não possuem tarifa nenhuma, em vez de pagar esse valor, a empresa economizará R$1.200,00.\n",
        "\n",
        "Agora, com essa economia, você poderia investir em treinamentos ou eventos, que, após um tempo, poderiam aumentar ainda mais o retorno da empresa.\n",
        "\n",
        "Foi usada uma linguagem mais formal do que a B2C porque quando estamos lidando com empresas temos que ser mais práticos e mostrar exatamente o que a empresa ganha, e, no caso, até como poderia ganhar mais depois.\n",
        "\n",
        "Além dessa mudança na linguagem, tivemos ideias diferentes de conteúdo. No B2C foram apresentados conhecimentos a respeito de cada taxa, para que a pessoa entenda o que está pagando e confie em empresas que não cobra as taxas.\n",
        "\n",
        "Agora para B2B foram apresentadas formas para economizar no cartão, pois, muitas vezes, os empresários sabem o que é cada taxa do cartão e tem que utilizá-lo mesmo assim. Então, mostramos como ele pode economizar e, uma dessas formas, é usar o cartão da ByteBank.\n",
        "\n",
        "Nesse mesmo texto para B2B também acrescentamos o conteúdo de outra vantagem do cartão: poder determinar um limite de gastos para cada categoria nos cartões dos funcionários da empresa.\n",
        "\n",
        "Dessa forma, os funcionários não podem gastar mais do que o determinado e, assim, a empresa consegue economizar e planejar os gastos e não extrapolar com compras dos funcionários.\n",
        "\n",
        "O foco da comunicação B2B que utilizamos foi dar dicas para não cometer erros e economizar mais, para que a empresa perceba que utilizar o cartão é vantagem.\n",
        "\n",
        "E caso a sua empresa seja diferente da ByteBank, seja só B2B e não tenha nenhum plano de comunicação focado para B2C para se basear?\n",
        "\n",
        "Existem diversas empresas B2B:\n",
        "\n",
        "as que vendem tanto para B2B quanto para B2C, como a ByteBank;\n",
        "as que vendem para ambos os consumidores, mas possuem um foco maior no B2B, como a Marmotex, que tem como serviço entrega de marmitas e entregam tanto para consumidores quanto empresas, mas possuem um foco maior em organizações e catering  para eventos, ou seja, B2B\n",
        "as empresas somente B2B, como as de agências de publicidade.\n",
        "Cada uma das empresas que são B2B possui um produto e um serviço para mostrar.\n",
        "\n",
        "Então, caso você trabalhe em uma empresa que não possui um plano de marketing de conteúdo para B2C para se basear, é só seguir a ideia do marketing de conteúdo, de passar informações relacionados a sua empresa, tornando-a uma autoridade no assunto. E, além disso, mostrar maneiras que o seu produto e/ou serviço pode ajudar a empresa em determinado tema.\n",
        "\n",
        "No B2B, como no marketing de conteúdo focado no B2C, é importante frisar a importância e a relevância do produto e/ou serviço para o cliente. E, melhor, a longo prazo.\n",
        "\n",
        "A empresa cliente precisa entender e saber que a vantagem trazida pelo produto será duradoura. Pois o processo de compra B2B é mais longo justamente porque há muito em jogo e muitas pessoas envolvidas.\n",
        "\n",
        "Mudar de produto ou serviço é trabalhoso e pode causar prejuízo para a empresa, assim, eles buscam e precisam de garantias de que a solução funcionará por muito tempo.\n",
        "\n",
        "Assim, como no marketing B2C, os tipos de conteúdo devem se atentar aos clientes em cada fase do funil de marketing de conteúdo para trazer o conteúdo certo para a empresa em cada momento da obtenção do cartão.\n",
        "\n",
        "Para isso, a Bytebank utilizou dados, números, infográficos e mostrou com exemplos práticos maneiras de ajudar a contratante. Também escreveu conteúdos com histórias de empresas - os chamados cases de sucesso - que obtiveram lucro ou sucesso com o produto/serviço.\n",
        "\n",
        "Além disso, apresentou novidades e dicas tanto da sua empresa, que passou a fornecer uma conta para pessoas físicas e jurídicas, quanto do segmento dela, com informações que podem ser úteis ao cliente do setor financeiro.\n",
        "\n",
        "Como vimos, as principais diferenças entre os conteúdos B2C para o B2B são a linguagem, que deve ser mais formal se for B2B e apelar para o emocional se for B2C.\n",
        "\n",
        "No B2B você estará lidando com pessoas que tomam decisões nas empresas, então deverá mostrar como o produto pode ajudar a empresa, de preferência a longo prazo.\n",
        "\n",
        "Fora isso, o tipo de conteúdo pode ser o mesmo do marketing de conteúdo B2C. Passando desde textos sobre novidades, inovações e dicas na área, até infográficos com dados de pesquisas, vídeos, áudios de podcast, imagens e publicações nas redes sociais.\n",
        "\n",
        "Também, para conteúdo B2B, é muito comum encontrar whitepapers, grupos de usuários, meetups, cases de sucesso, trial gratuito, e até mesmo vídeos ou campanhas e posts de marketing com influenciadores.\n",
        "\n",
        "\"\"\""
      ],
      "metadata": {
        "id": "FQg5nOCyOOPf"
      },
      "execution_count": 2,
      "outputs": []
    },
    {
      "cell_type": "code",
      "source": [
        "texto1.split()"
      ],
      "metadata": {
        "colab": {
          "base_uri": "https://localhost:8080/"
        },
        "id": "5EruHvc_P3Vw",
        "outputId": "2eac7de2-2805-4c01-878f-d6f648abce7f"
      },
      "execution_count": 6,
      "outputs": [
        {
          "output_type": "execute_result",
          "data": {
            "text/plain": [
              "['Para',\n",
              " 'começar',\n",
              " 'a',\n",
              " 'fazer',\n",
              " 'vendas',\n",
              " 'online,',\n",
              " 'uma',\n",
              " 'empresa',\n",
              " 'que',\n",
              " 'fabrica',\n",
              " 'adesivos',\n",
              " 'criou',\n",
              " 'uma',\n",
              " 'página',\n",
              " 'para',\n",
              " 'pré',\n",
              " 'cadastro',\n",
              " 'de',\n",
              " 'cartão',\n",
              " 'de',\n",
              " 'crédito',\n",
              " 'que',\n",
              " 'contém',\n",
              " 'campos',\n",
              " 'como',\n",
              " 'nome,',\n",
              " 'idade,',\n",
              " 'endereço,',\n",
              " 'CPF',\n",
              " 'entre',\n",
              " 'outros.',\n",
              " 'O',\n",
              " 'problema',\n",
              " 'é',\n",
              " 'que',\n",
              " 'alguns',\n",
              " 'cadastros',\n",
              " 'não',\n",
              " 'possuem',\n",
              " 'um',\n",
              " 'formato',\n",
              " 'de',\n",
              " 'CPF',\n",
              " 'válido,',\n",
              " 'isso',\n",
              " 'porque',\n",
              " 'o',\n",
              " 'campo',\n",
              " 'não',\n",
              " 'possui',\n",
              " 'nenhuma',\n",
              " 'validação.',\n",
              " 'Ou',\n",
              " 'seja,',\n",
              " 'o',\n",
              " 'campo',\n",
              " 'está',\n",
              " 'aceitando',\n",
              " 'não',\n",
              " 'só',\n",
              " 'números',\n",
              " 'como',\n",
              " 'letras',\n",
              " 'e',\n",
              " 'outros',\n",
              " 'tipos',\n",
              " 'de',\n",
              " 'caractere.',\n",
              " 'O',\n",
              " 'que',\n",
              " 'vamos',\n",
              " 'fazer',\n",
              " 'é',\n",
              " 'encontrar',\n",
              " 'uma',\n",
              " 'maneira',\n",
              " 'de',\n",
              " 'ajudar',\n",
              " 'o',\n",
              " 'usuário',\n",
              " 'de',\n",
              " 'forma',\n",
              " 'mais',\n",
              " 'clara',\n",
              " 'possível',\n",
              " 'a',\n",
              " 'preencher',\n",
              " 'o',\n",
              " 'cadastro',\n",
              " 'e',\n",
              " 'garantir',\n",
              " 'a',\n",
              " 'validação',\n",
              " 'no',\n",
              " 'front-end',\n",
              " 'antes',\n",
              " 'que',\n",
              " 'os',\n",
              " 'dados',\n",
              " 'sejam',\n",
              " 'enviados',\n",
              " 'para',\n",
              " 'o',\n",
              " 'back-end.',\n",
              " 'Como',\n",
              " 'podemos',\n",
              " 'notar',\n",
              " 'não',\n",
              " 'temos',\n",
              " 'nenhuma',\n",
              " 'validação,',\n",
              " 'então',\n",
              " 'fica',\n",
              " 'confuso',\n",
              " 'se',\n",
              " 'devemos',\n",
              " 'ou',\n",
              " 'não',\n",
              " 'colocar',\n",
              " 'ponto',\n",
              " 'ou',\n",
              " 'traço',\n",
              " 'no',\n",
              " 'CPF',\n",
              " 'e',\n",
              " 'pode',\n",
              " 'acontecer',\n",
              " 'do',\n",
              " 'usuário',\n",
              " 'colocar',\n",
              " 'outros',\n",
              " 'caracteres',\n",
              " 'no',\n",
              " 'campo',\n",
              " 'sem',\n",
              " 'querer.',\n",
              " 'Para',\n",
              " 'isso',\n",
              " 'evitar',\n",
              " 'que',\n",
              " 'isso',\n",
              " 'ocorra',\n",
              " 'vamos',\n",
              " 'usar',\n",
              " 'o',\n",
              " 'atributo',\n",
              " 'pattern',\n",
              " 'do',\n",
              " 'HTML5',\n",
              " 'que',\n",
              " 'nos',\n",
              " 'permite',\n",
              " 'fazer',\n",
              " 'uso',\n",
              " 'das',\n",
              " 'famosas',\n",
              " 'expressões',\n",
              " 'regulares',\n",
              " 'que',\n",
              " 'nada',\n",
              " 'mais',\n",
              " 'são',\n",
              " 'que',\n",
              " 'padrões',\n",
              " 'utilizados',\n",
              " 'para',\n",
              " 'selecionar',\n",
              " 'caracteres',\n",
              " 'em',\n",
              " 'uma',\n",
              " 'string.',\n",
              " 'Na',\n",
              " 'nossa',\n",
              " 'verificação',\n",
              " 'vamos',\n",
              " 'usar',\n",
              " 'a',\n",
              " 'lista',\n",
              " '[0-9],',\n",
              " 'esse',\n",
              " 'padrão',\n",
              " 'indica',\n",
              " 'que',\n",
              " 'queremos',\n",
              " 'os',\n",
              " 'números',\n",
              " 'de',\n",
              " '0',\n",
              " 'até',\n",
              " '9',\n",
              " 'e',\n",
              " 'o',\n",
              " 'intervalo',\n",
              " '{11},',\n",
              " 'indicando',\n",
              " 'que',\n",
              " 'temos',\n",
              " 'que',\n",
              " 'ter',\n",
              " 'um',\n",
              " 'número',\n",
              " 'de',\n",
              " '11',\n",
              " 'dígitos',\n",
              " 'no',\n",
              " 'nosso',\n",
              " 'campo.',\n",
              " 'Com',\n",
              " 'a',\n",
              " 'adição',\n",
              " 'do',\n",
              " 'pattern',\n",
              " 'nosso',\n",
              " 'campo',\n",
              " 'de',\n",
              " 'CPF',\n",
              " 'ficou',\n",
              " 'da',\n",
              " 'seguinte',\n",
              " 'maneira:',\n",
              " 'Com',\n",
              " 'a',\n",
              " 'ajuda',\n",
              " 'do',\n",
              " 'pattern',\n",
              " 'e',\n",
              " 'das',\n",
              " 'expressões',\n",
              " 'regulares',\n",
              " 'conseguimos',\n",
              " 'resolver',\n",
              " 'uma',\n",
              " 'parte',\n",
              " 'da',\n",
              " 'tarefa,',\n",
              " 'agora',\n",
              " 'o',\n",
              " 'que',\n",
              " 'precisamos',\n",
              " 'fazer',\n",
              " 'encontrar',\n",
              " 'uma',\n",
              " 'maneira',\n",
              " 'de',\n",
              " 'formatar',\n",
              " 'o',\n",
              " 'CPF',\n",
              " 'no',\n",
              " 'padrão',\n",
              " 'que',\n",
              " 'precisamos',\n",
              " 'enviar',\n",
              " 'ao',\n",
              " 'back-end.',\n",
              " 'Mais',\n",
              " 'um',\n",
              " 'pouco',\n",
              " 'de',\n",
              " 'Regex',\n",
              " 'Para',\n",
              " 'começar',\n",
              " 'vamos',\n",
              " 'criar',\n",
              " 'uma',\n",
              " 'função',\n",
              " 'que',\n",
              " 'vai',\n",
              " 'ser',\n",
              " 'responsável',\n",
              " 'por',\n",
              " 'formatar',\n",
              " 'o',\n",
              " 'CPF.',\n",
              " 'Dentro',\n",
              " 'dessa',\n",
              " 'função',\n",
              " 'vamos',\n",
              " 'ter',\n",
              " 'as',\n",
              " 'variáveis',\n",
              " ':',\n",
              " 'elementoAlvo:',\n",
              " 'responsável',\n",
              " 'pelo',\n",
              " 'parâmetro',\n",
              " 'que',\n",
              " 'vai',\n",
              " 'ser',\n",
              " 'passado',\n",
              " 'na',\n",
              " 'função',\n",
              " 'cpfAtual:',\n",
              " 'responsável',\n",
              " 'por',\n",
              " 'capturar',\n",
              " 'os',\n",
              " 'números',\n",
              " 'do',\n",
              " 'CPF',\n",
              " 'digitados',\n",
              " 'cpfAtualizado:',\n",
              " 'responsável',\n",
              " 'por',\n",
              " 'receber',\n",
              " 'o',\n",
              " 'CPF',\n",
              " 'formatado.']"
            ]
          },
          "metadata": {},
          "execution_count": 6
        }
      ]
    },
    {
      "cell_type": "code",
      "source": [
        "for x in \"guilherme\":\n",
        "  print(x)"
      ],
      "metadata": {
        "colab": {
          "base_uri": "https://localhost:8080/"
        },
        "id": "VHiAxozCQVmy",
        "outputId": "b37b5475-c91d-4624-800a-c5db1edde42c"
      },
      "execution_count": 7,
      "outputs": [
        {
          "output_type": "stream",
          "name": "stdout",
          "text": [
            "g\n",
            "u\n",
            "i\n",
            "l\n",
            "h\n",
            "e\n",
            "r\n",
            "m\n",
            "e\n"
          ]
        }
      ]
    },
    {
      "cell_type": "code",
      "source": [
        "from collections import Counter\n",
        "\n",
        "Counter(texto1)"
      ],
      "metadata": {
        "colab": {
          "base_uri": "https://localhost:8080/"
        },
        "id": "DXmjOo8XRbec",
        "outputId": "73e14014-3b05-4ef9-85db-e2d5ef43c63c"
      },
      "execution_count": 9,
      "outputs": [
        {
          "output_type": "execute_result",
          "data": {
            "text/plain": [
              "Counter({'\\n': 23,\n",
              "         'P': 11,\n",
              "         'a': 172,\n",
              "         'r': 122,\n",
              "         ' ': 294,\n",
              "         'c': 54,\n",
              "         'o': 169,\n",
              "         'm': 64,\n",
              "         'e': 158,\n",
              "         'ç': 12,\n",
              "         'f': 22,\n",
              "         'z': 6,\n",
              "         'v': 28,\n",
              "         'n': 75,\n",
              "         'd': 61,\n",
              "         's': 116,\n",
              "         'l': 28,\n",
              "         'i': 59,\n",
              "         ',': 10,\n",
              "         'u': 65,\n",
              "         'p': 48,\n",
              "         'q': 19,\n",
              "         'b': 6,\n",
              "         'á': 10,\n",
              "         'g': 12,\n",
              "         'é': 6,\n",
              "         't': 61,\n",
              "         'ã': 18,\n",
              "         'C': 11,\n",
              "         'F': 8,\n",
              "         '.': 10,\n",
              "         'O': 3,\n",
              "         'h': 3,\n",
              "         'j': 4,\n",
              "         'ó': 1,\n",
              "         'ú': 4,\n",
              "         'í': 2,\n",
              "         '-': 4,\n",
              "         'k': 2,\n",
              "         'H': 1,\n",
              "         'T': 1,\n",
              "         'M': 2,\n",
              "         'L': 1,\n",
              "         '5': 1,\n",
              "         'x': 3,\n",
              "         'õ': 3,\n",
              "         'N': 1,\n",
              "         '[': 1,\n",
              "         '0': 2,\n",
              "         '9': 2,\n",
              "         ']': 1,\n",
              "         '{': 1,\n",
              "         '1': 4,\n",
              "         '}': 1,\n",
              "         ':': 5,\n",
              "         'R': 1,\n",
              "         'D': 1,\n",
              "         'A': 3,\n",
              "         'â': 1})"
            ]
          },
          "metadata": {},
          "execution_count": 9
        }
      ]
    },
    {
      "cell_type": "code",
      "source": [
        "Counter(texto1.lower())"
      ],
      "metadata": {
        "colab": {
          "base_uri": "https://localhost:8080/"
        },
        "id": "hRyOo8I1RwM1",
        "outputId": "3facd3a3-360a-4f6f-e61c-433529f632f9"
      },
      "execution_count": 13,
      "outputs": [
        {
          "output_type": "execute_result",
          "data": {
            "text/plain": [
              "Counter({'\\n': 23,\n",
              "         'p': 59,\n",
              "         'a': 175,\n",
              "         'r': 123,\n",
              "         ' ': 294,\n",
              "         'c': 65,\n",
              "         'o': 172,\n",
              "         'm': 66,\n",
              "         'e': 158,\n",
              "         'ç': 12,\n",
              "         'f': 30,\n",
              "         'z': 6,\n",
              "         'v': 28,\n",
              "         'n': 76,\n",
              "         'd': 62,\n",
              "         's': 116,\n",
              "         'l': 29,\n",
              "         'i': 59,\n",
              "         ',': 10,\n",
              "         'u': 65,\n",
              "         'q': 19,\n",
              "         'b': 6,\n",
              "         'á': 10,\n",
              "         'g': 12,\n",
              "         'é': 6,\n",
              "         't': 62,\n",
              "         'ã': 18,\n",
              "         '.': 10,\n",
              "         'h': 4,\n",
              "         'j': 4,\n",
              "         'ó': 1,\n",
              "         'ú': 4,\n",
              "         'í': 2,\n",
              "         '-': 4,\n",
              "         'k': 2,\n",
              "         '5': 1,\n",
              "         'x': 3,\n",
              "         'õ': 3,\n",
              "         '[': 1,\n",
              "         '0': 2,\n",
              "         '9': 2,\n",
              "         ']': 1,\n",
              "         '{': 1,\n",
              "         '1': 4,\n",
              "         '}': 1,\n",
              "         ':': 5,\n",
              "         'â': 1})"
            ]
          },
          "metadata": {},
          "execution_count": 13
        }
      ]
    },
    {
      "cell_type": "code",
      "source": [
        "aparicoes = Counter(texto1.lower())\n",
        "sum(aparicoes.values())"
      ],
      "metadata": {
        "colab": {
          "base_uri": "https://localhost:8080/"
        },
        "id": "pulLgJ-eTGaq",
        "outputId": "8069d7a1-ae90-44cd-e80e-2d4434b963e4"
      },
      "execution_count": 14,
      "outputs": [
        {
          "output_type": "execute_result",
          "data": {
            "text/plain": [
              "1817"
            ]
          },
          "metadata": {},
          "execution_count": 14
        }
      ]
    },
    {
      "cell_type": "code",
      "source": [
        "aparicoes = Counter(texto1.lower())\n",
        "total_de_caracteres = sum(aparicoes.values())\n",
        "for letra, frequencia in aparicoes.items():\n",
        "    tupla=(letra, frequencia / total_de_caracteres)\n",
        "    print(tupla)"
      ],
      "metadata": {
        "colab": {
          "base_uri": "https://localhost:8080/"
        },
        "id": "RdZtUMoXXX_W",
        "outputId": "82a0a5ee-eb26-46dc-c66b-6128cb2bf26b"
      },
      "execution_count": 15,
      "outputs": [
        {
          "output_type": "stream",
          "name": "stdout",
          "text": [
            "('\\n', 0.012658227848101266)\n",
            "('p', 0.032471106219042374)\n",
            "('a', 0.09631260319207485)\n",
            "('r', 0.06769400110071547)\n",
            "(' ', 0.16180517336268574)\n",
            "('c', 0.03577325261419923)\n",
            "('o', 0.09466152999449642)\n",
            "('m', 0.03632361034672537)\n",
            "('e', 0.08695652173913043)\n",
            "('ç', 0.006604292790313704)\n",
            "('f', 0.01651073197578426)\n",
            "('z', 0.003302146395156852)\n",
            "('v', 0.015410016510731976)\n",
            "('n', 0.041827187671986794)\n",
            "('d', 0.0341221794166208)\n",
            "('s', 0.06384149697303247)\n",
            "('l', 0.015960374243258118)\n",
            "('i', 0.032471106219042374)\n",
            "(',', 0.00550357732526142)\n",
            "('u', 0.03577325261419923)\n",
            "('q', 0.010456796917996699)\n",
            "('b', 0.003302146395156852)\n",
            "('á', 0.00550357732526142)\n",
            "('g', 0.006604292790313704)\n",
            "('é', 0.003302146395156852)\n",
            "('t', 0.0341221794166208)\n",
            "('ã', 0.009906439185470555)\n",
            "('.', 0.00550357732526142)\n",
            "('h', 0.002201430930104568)\n",
            "('j', 0.002201430930104568)\n",
            "('ó', 0.000550357732526142)\n",
            "('ú', 0.002201430930104568)\n",
            "('í', 0.001100715465052284)\n",
            "('-', 0.002201430930104568)\n",
            "('k', 0.001100715465052284)\n",
            "('5', 0.000550357732526142)\n",
            "('x', 0.001651073197578426)\n",
            "('õ', 0.001651073197578426)\n",
            "('[', 0.000550357732526142)\n",
            "('0', 0.001100715465052284)\n",
            "('9', 0.001100715465052284)\n",
            "(']', 0.000550357732526142)\n",
            "('{', 0.000550357732526142)\n",
            "('1', 0.002201430930104568)\n",
            "('}', 0.000550357732526142)\n",
            "(':', 0.00275178866263071)\n",
            "('â', 0.000550357732526142)\n"
          ]
        }
      ]
    },
    {
      "cell_type": "code",
      "source": [
        "aparicoes = Counter(texto1.lower())\n",
        "total_de_caracteres = sum(aparicoes.values())\n",
        "\n",
        "[(letra, frequencia / total_de_caracteres) for letra, frequencia in aparicoes.items()]"
      ],
      "metadata": {
        "colab": {
          "base_uri": "https://localhost:8080/"
        },
        "id": "cOwTgxjtYY0c",
        "outputId": "bb3bdaf1-cfaa-4bf1-f706-a9db87b2eef2"
      },
      "execution_count": 16,
      "outputs": [
        {
          "output_type": "execute_result",
          "data": {
            "text/plain": [
              "[('\\n', 0.012658227848101266),\n",
              " ('p', 0.032471106219042374),\n",
              " ('a', 0.09631260319207485),\n",
              " ('r', 0.06769400110071547),\n",
              " (' ', 0.16180517336268574),\n",
              " ('c', 0.03577325261419923),\n",
              " ('o', 0.09466152999449642),\n",
              " ('m', 0.03632361034672537),\n",
              " ('e', 0.08695652173913043),\n",
              " ('ç', 0.006604292790313704),\n",
              " ('f', 0.01651073197578426),\n",
              " ('z', 0.003302146395156852),\n",
              " ('v', 0.015410016510731976),\n",
              " ('n', 0.041827187671986794),\n",
              " ('d', 0.0341221794166208),\n",
              " ('s', 0.06384149697303247),\n",
              " ('l', 0.015960374243258118),\n",
              " ('i', 0.032471106219042374),\n",
              " (',', 0.00550357732526142),\n",
              " ('u', 0.03577325261419923),\n",
              " ('q', 0.010456796917996699),\n",
              " ('b', 0.003302146395156852),\n",
              " ('á', 0.00550357732526142),\n",
              " ('g', 0.006604292790313704),\n",
              " ('é', 0.003302146395156852),\n",
              " ('t', 0.0341221794166208),\n",
              " ('ã', 0.009906439185470555),\n",
              " ('.', 0.00550357732526142),\n",
              " ('h', 0.002201430930104568),\n",
              " ('j', 0.002201430930104568),\n",
              " ('ó', 0.000550357732526142),\n",
              " ('ú', 0.002201430930104568),\n",
              " ('í', 0.001100715465052284),\n",
              " ('-', 0.002201430930104568),\n",
              " ('k', 0.001100715465052284),\n",
              " ('5', 0.000550357732526142),\n",
              " ('x', 0.001651073197578426),\n",
              " ('õ', 0.001651073197578426),\n",
              " ('[', 0.000550357732526142),\n",
              " ('0', 0.001100715465052284),\n",
              " ('9', 0.001100715465052284),\n",
              " (']', 0.000550357732526142),\n",
              " ('{', 0.000550357732526142),\n",
              " ('1', 0.002201430930104568),\n",
              " ('}', 0.000550357732526142),\n",
              " (':', 0.00275178866263071),\n",
              " ('â', 0.000550357732526142)]"
            ]
          },
          "metadata": {},
          "execution_count": 16
        }
      ]
    },
    {
      "cell_type": "code",
      "source": [
        "aparicoes = Counter(texto1.lower())\n",
        "total_de_caracteres = sum(aparicoes.values())\n",
        "\n",
        "proporcoes = [(letra, frequencia / total_de_caracteres) for letra, frequencia in aparicoes.items()]\n",
        "proporcoes = dict(proporcoes)\n",
        "proporcoes"
      ],
      "metadata": {
        "colab": {
          "base_uri": "https://localhost:8080/"
        },
        "id": "Iua6LEXnZHue",
        "outputId": "1f77d865-6b1d-4e65-8f68-4705380768a7"
      },
      "execution_count": 18,
      "outputs": [
        {
          "output_type": "execute_result",
          "data": {
            "text/plain": [
              "{'\\n': 0.012658227848101266,\n",
              " 'p': 0.032471106219042374,\n",
              " 'a': 0.09631260319207485,\n",
              " 'r': 0.06769400110071547,\n",
              " ' ': 0.16180517336268574,\n",
              " 'c': 0.03577325261419923,\n",
              " 'o': 0.09466152999449642,\n",
              " 'm': 0.03632361034672537,\n",
              " 'e': 0.08695652173913043,\n",
              " 'ç': 0.006604292790313704,\n",
              " 'f': 0.01651073197578426,\n",
              " 'z': 0.003302146395156852,\n",
              " 'v': 0.015410016510731976,\n",
              " 'n': 0.041827187671986794,\n",
              " 'd': 0.0341221794166208,\n",
              " 's': 0.06384149697303247,\n",
              " 'l': 0.015960374243258118,\n",
              " 'i': 0.032471106219042374,\n",
              " ',': 0.00550357732526142,\n",
              " 'u': 0.03577325261419923,\n",
              " 'q': 0.010456796917996699,\n",
              " 'b': 0.003302146395156852,\n",
              " 'á': 0.00550357732526142,\n",
              " 'g': 0.006604292790313704,\n",
              " 'é': 0.003302146395156852,\n",
              " 't': 0.0341221794166208,\n",
              " 'ã': 0.009906439185470555,\n",
              " '.': 0.00550357732526142,\n",
              " 'h': 0.002201430930104568,\n",
              " 'j': 0.002201430930104568,\n",
              " 'ó': 0.000550357732526142,\n",
              " 'ú': 0.002201430930104568,\n",
              " 'í': 0.001100715465052284,\n",
              " '-': 0.002201430930104568,\n",
              " 'k': 0.001100715465052284,\n",
              " '5': 0.000550357732526142,\n",
              " 'x': 0.001651073197578426,\n",
              " 'õ': 0.001651073197578426,\n",
              " '[': 0.000550357732526142,\n",
              " '0': 0.001100715465052284,\n",
              " '9': 0.001100715465052284,\n",
              " ']': 0.000550357732526142,\n",
              " '{': 0.000550357732526142,\n",
              " '1': 0.002201430930104568,\n",
              " '}': 0.000550357732526142,\n",
              " ':': 0.00275178866263071,\n",
              " 'â': 0.000550357732526142}"
            ]
          },
          "metadata": {},
          "execution_count": 18
        }
      ]
    },
    {
      "cell_type": "code",
      "source": [
        "aparicoes = Counter(texto1.lower())\n",
        "total_de_caracteres = sum(aparicoes.values())\n",
        "\n",
        "proporcoes = [(letra, frequencia / total_de_caracteres) for letra, frequencia in aparicoes.items()]\n",
        "proporcoes = Counter(dict(proporcoes))\n",
        "proporcoes"
      ],
      "metadata": {
        "colab": {
          "base_uri": "https://localhost:8080/"
        },
        "id": "4Ed535PcZms1",
        "outputId": "60a18753-abdd-4080-8fda-14ddfbe20ee1"
      },
      "execution_count": 19,
      "outputs": [
        {
          "output_type": "execute_result",
          "data": {
            "text/plain": [
              "Counter({'\\n': 0.012658227848101266,\n",
              "         'p': 0.032471106219042374,\n",
              "         'a': 0.09631260319207485,\n",
              "         'r': 0.06769400110071547,\n",
              "         ' ': 0.16180517336268574,\n",
              "         'c': 0.03577325261419923,\n",
              "         'o': 0.09466152999449642,\n",
              "         'm': 0.03632361034672537,\n",
              "         'e': 0.08695652173913043,\n",
              "         'ç': 0.006604292790313704,\n",
              "         'f': 0.01651073197578426,\n",
              "         'z': 0.003302146395156852,\n",
              "         'v': 0.015410016510731976,\n",
              "         'n': 0.041827187671986794,\n",
              "         'd': 0.0341221794166208,\n",
              "         's': 0.06384149697303247,\n",
              "         'l': 0.015960374243258118,\n",
              "         'i': 0.032471106219042374,\n",
              "         ',': 0.00550357732526142,\n",
              "         'u': 0.03577325261419923,\n",
              "         'q': 0.010456796917996699,\n",
              "         'b': 0.003302146395156852,\n",
              "         'á': 0.00550357732526142,\n",
              "         'g': 0.006604292790313704,\n",
              "         'é': 0.003302146395156852,\n",
              "         't': 0.0341221794166208,\n",
              "         'ã': 0.009906439185470555,\n",
              "         '.': 0.00550357732526142,\n",
              "         'h': 0.002201430930104568,\n",
              "         'j': 0.002201430930104568,\n",
              "         'ó': 0.000550357732526142,\n",
              "         'ú': 0.002201430930104568,\n",
              "         'í': 0.001100715465052284,\n",
              "         '-': 0.002201430930104568,\n",
              "         'k': 0.001100715465052284,\n",
              "         '5': 0.000550357732526142,\n",
              "         'x': 0.001651073197578426,\n",
              "         'õ': 0.001651073197578426,\n",
              "         '[': 0.000550357732526142,\n",
              "         '0': 0.001100715465052284,\n",
              "         '9': 0.001100715465052284,\n",
              "         ']': 0.000550357732526142,\n",
              "         '{': 0.000550357732526142,\n",
              "         '1': 0.002201430930104568,\n",
              "         '}': 0.000550357732526142,\n",
              "         ':': 0.00275178866263071,\n",
              "         'â': 0.000550357732526142})"
            ]
          },
          "metadata": {},
          "execution_count": 19
        }
      ]
    },
    {
      "cell_type": "code",
      "source": [
        "aparicoes = Counter(texto1.lower())\n",
        "total_de_caracteres = sum(aparicoes.values())\n",
        "\n",
        "proporcoes = [(letra, frequencia / total_de_caracteres) for letra, frequencia in aparicoes.items()]\n",
        "proporcoes = Counter(dict(proporcoes))\n",
        "proporcoes.most_common(10)"
      ],
      "metadata": {
        "colab": {
          "base_uri": "https://localhost:8080/"
        },
        "id": "pMa_R7TkbPSz",
        "outputId": "82273a8a-aa9a-4260-ae4a-292fe40473b8"
      },
      "execution_count": 20,
      "outputs": [
        {
          "output_type": "execute_result",
          "data": {
            "text/plain": [
              "[(' ', 0.16180517336268574),\n",
              " ('a', 0.09631260319207485),\n",
              " ('o', 0.09466152999449642),\n",
              " ('e', 0.08695652173913043),\n",
              " ('r', 0.06769400110071547),\n",
              " ('s', 0.06384149697303247),\n",
              " ('n', 0.041827187671986794),\n",
              " ('m', 0.03632361034672537),\n",
              " ('c', 0.03577325261419923),\n",
              " ('u', 0.03577325261419923)]"
            ]
          },
          "metadata": {},
          "execution_count": 20
        }
      ]
    },
    {
      "cell_type": "code",
      "source": [
        "def analisa_frequencia_de_letras(texto):\n",
        "  aparicoes = Counter(texto.lower())\n",
        "  total_de_caracteres = sum(aparicoes.values())\n",
        "\n",
        "  proporcoes = [(letra, frequencia / total_de_caracteres) for letra, frequencia in aparicoes.items()]\n",
        "  proporcoes = Counter(dict(proporcoes))\n",
        "  mais_comuns = proporcoes.most_common(10)\n",
        "  for caractere, proporcao in mais_comuns:\n",
        "    print(caractere, \"=>\", proporcao)"
      ],
      "metadata": {
        "id": "tzMn7cI_bxLn"
      },
      "execution_count": 31,
      "outputs": []
    },
    {
      "cell_type": "code",
      "source": [
        "analisa_frequencia_de_letras(texto1)"
      ],
      "metadata": {
        "colab": {
          "base_uri": "https://localhost:8080/"
        },
        "id": "FIkBFc75c36P",
        "outputId": "11714b57-47a3-4b74-fb8f-d8ad2c8d9d7e"
      },
      "execution_count": 32,
      "outputs": [
        {
          "output_type": "stream",
          "name": "stdout",
          "text": [
            "  => 0.16180517336268574\n",
            "a => 0.09631260319207485\n",
            "o => 0.09466152999449642\n",
            "e => 0.08695652173913043\n",
            "r => 0.06769400110071547\n",
            "s => 0.06384149697303247\n",
            "n => 0.041827187671986794\n",
            "m => 0.03632361034672537\n",
            "c => 0.03577325261419923\n",
            "u => 0.03577325261419923\n"
          ]
        }
      ]
    },
    {
      "cell_type": "code",
      "source": [
        "def analisa_frequencia_de_letras(texto):\n",
        "  aparicoes = Counter(texto.lower())\n",
        "  total_de_caracteres = sum(aparicoes.values())\n",
        "\n",
        "  proporcoes = [(letra, frequencia / total_de_caracteres) for letra, frequencia in aparicoes.items()]\n",
        "  proporcoes = Counter(dict(proporcoes))\n",
        "  mais_comuns = proporcoes.most_common(10)\n",
        "  for caractere, proporcao in mais_comuns:\n",
        "    print(\"{} => {:.2f}%\".format(caractere, proporcao * 100))\n",
        "analisa_frequencia_de_letras(texto1)"
      ],
      "metadata": {
        "colab": {
          "base_uri": "https://localhost:8080/"
        },
        "id": "SiNDv0UcdBIh",
        "outputId": "f707fa9e-827b-4645-dea1-09dfcdd93df5"
      },
      "execution_count": 33,
      "outputs": [
        {
          "output_type": "stream",
          "name": "stdout",
          "text": [
            "  => 16.18%\n",
            "a => 9.63%\n",
            "o => 9.47%\n",
            "e => 8.70%\n",
            "r => 6.77%\n",
            "s => 6.38%\n",
            "n => 4.18%\n",
            "m => 3.63%\n",
            "c => 3.58%\n",
            "u => 3.58%\n"
          ]
        }
      ]
    },
    {
      "cell_type": "code",
      "source": [
        "analisa_frequencia_de_letras(texto2)"
      ],
      "metadata": {
        "colab": {
          "base_uri": "https://localhost:8080/"
        },
        "id": "7l7IX2_uhXjZ",
        "outputId": "9c4dd62b-277d-4a20-9fd6-42f34ddc1115"
      },
      "execution_count": 34,
      "outputs": [
        {
          "output_type": "stream",
          "name": "stdout",
          "text": [
            "  => 16.29%\n",
            "a => 9.84%\n",
            "e => 9.40%\n",
            "o => 8.54%\n",
            "s => 6.73%\n",
            "r => 5.76%\n",
            "m => 4.45%\n",
            "t => 4.01%\n",
            "i => 3.99%\n",
            "n => 3.91%\n"
          ]
        }
      ]
    },
    {
      "cell_type": "code",
      "source": [],
      "metadata": {
        "id": "CE7Y-xarhyJn"
      },
      "execution_count": null,
      "outputs": []
    }
  ]
}